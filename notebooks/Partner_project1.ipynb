{
 "cells": [
  {
   "cell_type": "code",
   "execution_count": null,
   "id": "61abf521",
   "metadata": {},
   "outputs": [],
   "source": [
    "# test_reported_data = pd.read_csv('../data/Reported Data.csv')"
   ]
  },
  {
   "cell_type": "code",
   "execution_count": null,
   "id": "e0862f58",
   "metadata": {},
   "outputs": [],
   "source": [
    "# test_reported_tools = pd.read_csv('../data/Reported Tools.csv')"
   ]
  },
  {
   "cell_type": "code",
   "execution_count": null,
   "id": "c7ae1731",
   "metadata": {
    "scrolled": true
   },
   "outputs": [],
   "source": [
    "# test_ECO = pd.read_csv('../data/ECO with Exit 20-21.csv')"
   ]
  },
  {
   "cell_type": "code",
   "execution_count": null,
   "id": "42fc35ce",
   "metadata": {
    "scrolled": true
   },
   "outputs": [],
   "source": [
    "# test_Exit_notes = pd.read_csv('../data/Exit Notes.csv')"
   ]
  },
  {
   "cell_type": "code",
   "execution_count": null,
   "id": "a39b7c28",
   "metadata": {
    "scrolled": true
   },
   "outputs": [],
   "source": [
    "# test_Terms_acronyms = pd.read_csv('../data/Terms-Acronyms.csv')"
   ]
  },
  {
   "cell_type": "code",
   "execution_count": null,
   "id": "ac954408",
   "metadata": {},
   "outputs": [],
   "source": [
    "# test2_reported_data = pd.read_csv('../data/Reported Data2.csv')"
   ]
  },
  {
   "cell_type": "code",
   "execution_count": null,
   "id": "be69ad22",
   "metadata": {},
   "outputs": [],
   "source": [
    "# test2_reported_tools = pd.read_csv('../data/Reported Tools2.csv')"
   ]
  },
  {
   "cell_type": "code",
   "execution_count": null,
   "id": "dfa0f420",
   "metadata": {},
   "outputs": [],
   "source": [
    "# test2_ECO = pd.read_csv('../data/ECO with Exit 20-212.csv')"
   ]
  },
  {
   "cell_type": "code",
   "execution_count": null,
   "id": "75c4c301",
   "metadata": {},
   "outputs": [],
   "source": [
    "# test2_Exit_notes = pd.read_csv('../data/Exit Notes2.csv')"
   ]
  },
  {
   "cell_type": "code",
   "execution_count": null,
   "id": "2805c9e8",
   "metadata": {},
   "outputs": [],
   "source": [
    "# test2_Terms_acronyms = pd.read_csv('../data/Terms-Acronyms2.csv')"
   ]
  },
  {
   "cell_type": "code",
   "execution_count": null,
   "id": "c61d381b",
   "metadata": {},
   "outputs": [],
   "source": [
    "# df = pd.read_excel('../data/TEIS Exit Data for NSS.xlsx', sheet_name = 'Reported Data')"
   ]
  },
  {
   "cell_type": "code",
   "execution_count": null,
   "id": "84801ca6",
   "metadata": {
    "scrolled": true
   },
   "outputs": [],
   "source": [
    "# reported_data"
   ]
  },
  {
   "cell_type": "code",
   "execution_count": null,
   "id": "fbc2424a",
   "metadata": {
    "scrolled": false
   },
   "outputs": [],
   "source": [
    "# reported_totals"
   ]
  },
  {
   "cell_type": "code",
   "execution_count": null,
   "id": "c7a0f1e8",
   "metadata": {
    "scrolled": true
   },
   "outputs": [],
   "source": [
    "# terms_acronyms"
   ]
  },
  {
   "cell_type": "markdown",
   "id": "e08031e5",
   "metadata": {},
   "source": [
    "# Your main task is to recalculate the days of service for each child by considering the notes in column K."
   ]
  },
  {
   "cell_type": "code",
   "execution_count": null,
   "id": "b42b65ae",
   "metadata": {},
   "outputs": [],
   "source": [
    "# https://stackoverflow.com/questions/11361985/output-data-from-all-columns-in-a-dataframe-in-pandas\n",
    "# .values\n",
    "# paramdata.columns\n",
    "# paramdata.index\n",
    "# set_printoptions\n",
    "# print(exit_notes['Exit Note'].values)"
   ]
  },
  {
   "cell_type": "code",
   "execution_count": null,
   "id": "cf05026e",
   "metadata": {},
   "outputs": [],
   "source": [
    "import re\n",
    "import numpy as np\n",
    "import pandas as pd\n",
    "import seaborn as sns\n",
    "from datetime import datetime\n",
    "import matplotlib.pyplot as plt\n",
    "\n",
    "\n",
    "%matplotlib inline"
   ]
  },
  {
   "cell_type": "code",
   "execution_count": null,
   "id": "dd9be286",
   "metadata": {},
   "outputs": [],
   "source": [
    "pd.set_option('display.max_rows', 100)\n",
    "pd.options.display.max_colwidth = 1000"
   ]
  },
  {
   "cell_type": "code",
   "execution_count": null,
   "id": "c4af4e32",
   "metadata": {},
   "outputs": [],
   "source": [
    "# data = pd.read_excel('../data/TEIS Exit Data for NSS.xlsx', None)\n",
    "# reported_data = pd.read_excel('../data/TEIS Exit Data for NSS.xlsx', 0)\n",
    "# reported_totals = pd.read_excel('../data/TEIS Exit Data for NSS.xlsx', 1)\n",
    "# eco = pd.read_excel('../data/TEIS Exit Data for NSS.xlsx', 2)\n",
    "exit_notes = pd.read_excel('../data/TEIS Exit Data for NSS.xlsx', 3)\n",
    "# terms_acronyms = pd.read_excel('../data/TEIS Exit Data for NSS.xlsx', 4)"
   ]
  },
  {
   "cell_type": "code",
   "execution_count": null,
   "id": "29ccfbd7",
   "metadata": {
    "scrolled": true
   },
   "outputs": [],
   "source": [
    "exit_notes.head(15)"
   ]
  },
  {
   "cell_type": "code",
   "execution_count": null,
   "id": "75eca13b",
   "metadata": {},
   "outputs": [],
   "source": [
    "exit_notes['extra_dates'] = exit_notes['Exit Note'].str.findall(r'\\d+[/-]\\d+[/-]\\d+')"
   ]
  },
  {
   "cell_type": "code",
   "execution_count": null,
   "id": "76664c19",
   "metadata": {
    "scrolled": true
   },
   "outputs": [],
   "source": [
    "exit_notes.head(15)"
   ]
  },
  {
   "cell_type": "code",
   "execution_count": null,
   "id": "085a94bf",
   "metadata": {},
   "outputs": [],
   "source": [
    "exit_notes['exit_dates'] = exit_notes['Exit Note'].str.findall(r'Exit Date: \\d+[/-]\\d+[/-]\\d+')"
   ]
  },
  {
   "cell_type": "code",
   "execution_count": null,
   "id": "25d3fd4d",
   "metadata": {
    "scrolled": true
   },
   "outputs": [],
   "source": [
    "exit_notes.head(15)"
   ]
  },
  {
   "cell_type": "code",
   "execution_count": null,
   "id": "2a065889",
   "metadata": {},
   "outputs": [],
   "source": [
    "exit_notes['reopen_dates'] = exit_notes['Exit Note'].str.findall(r'Reopened: \\d+[/-]\\d+[/-]\\d+')"
   ]
  },
  {
   "cell_type": "code",
   "execution_count": null,
   "id": "1da5f2eb",
   "metadata": {
    "scrolled": true
   },
   "outputs": [],
   "source": [
    "exit_notes.head(15)"
   ]
  },
  {
   "cell_type": "code",
   "execution_count": null,
   "id": "7ffaaa8e",
   "metadata": {},
   "outputs": [],
   "source": [
    "for index, row in exit_notes.head(2251).iterrows():\n",
    "     if(len(row.exit_dates))!=0:\n",
    "        for i in range(0,len(row.exit_dates)):\n",
    "            if i ==0:\n",
    "                exit_notes.loc[index,'exit 1'] = row.exit_dates[i][len(row.exit_dates[i])-10:]\n",
    "            elif i ==1:\n",
    "                exit_notes.loc[index,'exit 2'] = row.exit_dates[i][len(row.exit_dates[i])-10:]\n",
    "            elif i ==2:\n",
    "                exit_notes.loc[index,'exit 3'] = row.exit_dates[i][len(row.exit_dates[i])-10:]\n",
    "            elif i ==3:\n",
    "                exit_notes.loc[index,'exit 4'] = row.exit_dates[i][len(row.exit_dates[i])-10:]\n",
    "            elif i ==4:\n",
    "                exit_notes.loc[index,'exit 5'] = row.exit_dates[i][len(row.exit_dates[i])-10:]"
   ]
  },
  {
   "cell_type": "code",
   "execution_count": null,
   "id": "71eb10ca",
   "metadata": {},
   "outputs": [],
   "source": [
    "exit_notes.head(30)"
   ]
  },
  {
   "cell_type": "code",
   "execution_count": null,
   "id": "889a99ff",
   "metadata": {},
   "outputs": [],
   "source": [
    "for index, row in exit_notes.head(2251).iterrows():\n",
    "     if(len(row.reopen_dates))!=0:\n",
    "        for i in range(0,len(row.reopen_dates)):\n",
    "            if i ==0:\n",
    "                exit_notes.loc[index,'reopened 1'] = row.reopen_dates[i][len(row.reopen_dates[i])-10:]\n",
    "            elif i ==1:\n",
    "                exit_notes.loc[index,'reopened 2'] = row.reopen_dates[i][len(row.reopen_dates[i])-10:]\n",
    "            elif i ==2:\n",
    "                exit_notes.loc[index,'reopened 3'] = row.reopen_dates[i][len(row.reopen_dates[i])-10:]\n",
    "            elif i ==3:\n",
    "                exit_notes.loc[index,'reopened 4'] = row.reopen_dates[i][len(row.reopen_dates[i])-10:]\n",
    "            elif i ==4:\n",
    "                exit_notes.loc[index,'reopened 5'] = row.reopen_dates[i][len(row.reopen_dates[i])-10:]"
   ]
  },
  {
   "cell_type": "code",
   "execution_count": null,
   "id": "1df5afed",
   "metadata": {
    "scrolled": true
   },
   "outputs": [],
   "source": [
    "exit_notes.head(30)"
   ]
  },
  {
   "cell_type": "code",
   "execution_count": null,
   "id": "f1e86ae9",
   "metadata": {},
   "outputs": [],
   "source": [
    "# exit_notes['exit 1'] = exit_notes['exit 1'].str.extract(r'\\d+[/-]\\d+[/-]\\d+')"
   ]
  },
  {
   "cell_type": "code",
   "execution_count": null,
   "id": "9c61e1fb",
   "metadata": {},
   "outputs": [],
   "source": [
    "exit_notes['exit 3'] = pd.to_datetime(exit_notes['exit 3'])"
   ]
  },
  {
   "cell_type": "code",
   "execution_count": null,
   "id": "92983958",
   "metadata": {},
   "outputs": [],
   "source": [
    "exit_notes['exit 4'] = pd.to_datetime(exit_notes['exit 4'])"
   ]
  },
  {
   "cell_type": "code",
   "execution_count": null,
   "id": "4fec1fd1",
   "metadata": {},
   "outputs": [],
   "source": [
    "exit_notes['exit 5'] = pd.to_datetime(exit_notes['exit 5'])"
   ]
  },
  {
   "cell_type": "code",
   "execution_count": null,
   "id": "3e402bf3",
   "metadata": {},
   "outputs": [],
   "source": [
    "exit_notes['reopened 1'] = pd.to_datetime(exit_notes['reopened 1'])"
   ]
  },
  {
   "cell_type": "code",
   "execution_count": null,
   "id": "87b5334a",
   "metadata": {},
   "outputs": [],
   "source": [
    "exit_notes['reopened 2'] = pd.to_datetime(exit_notes['reopened 2'])"
   ]
  },
  {
   "cell_type": "code",
   "execution_count": null,
   "id": "30912f03",
   "metadata": {},
   "outputs": [],
   "source": [
    "exit_notes['reopened 3'] = pd.to_datetime(exit_notes['reopened 3'])"
   ]
  },
  {
   "cell_type": "code",
   "execution_count": null,
   "id": "02b61327",
   "metadata": {},
   "outputs": [],
   "source": [
    "exit_notes['reopened 4'] = pd.to_datetime(exit_notes['reopened 4'])"
   ]
  },
  {
   "cell_type": "code",
   "execution_count": null,
   "id": "a4a82cbc",
   "metadata": {},
   "outputs": [],
   "source": [
    "exit_notes['reopened 5'] = pd.to_datetime(exit_notes['reopened 5'])"
   ]
  },
  {
   "cell_type": "code",
   "execution_count": null,
   "id": "786eb6d8",
   "metadata": {
    "scrolled": true
   },
   "outputs": [],
   "source": [
    "exit_notes.head(25)"
   ]
  },
  {
   "cell_type": "code",
   "execution_count": null,
   "id": "1091875b",
   "metadata": {},
   "outputs": [],
   "source": [
    "# exit_notes['extra_dates'] = exit_notes['extra_dates'].astype(str)"
   ]
  },
  {
   "cell_type": "code",
   "execution_count": null,
   "id": "4bce2ff9",
   "metadata": {},
   "outputs": [],
   "source": [
    "# exit_notes['exit_dates'] = exit_notes['exit_dates'].astype(str)"
   ]
  },
  {
   "cell_type": "code",
   "execution_count": null,
   "id": "569fa265",
   "metadata": {},
   "outputs": [],
   "source": [
    "# exit_notes['reopen_dates'] = exit_notes['reopen_dates'].astype(str)"
   ]
  },
  {
   "cell_type": "code",
   "execution_count": null,
   "id": "9579c295",
   "metadata": {},
   "outputs": [],
   "source": [
    "# exit_notes['exit_dates_clean'] = exit_notes['exit_dates'].str.findall(r'\\d+[/-]\\d+[/-]\\d+')\n",
    "# exit_notes['reopen_dates_clean'] = exit_notes['reopen_dates'].str.findall(r'\\d+[/-]\\d+[/-]\\d+')"
   ]
  },
  {
   "cell_type": "code",
   "execution_count": null,
   "id": "ff3980fd",
   "metadata": {
    "scrolled": true
   },
   "outputs": [],
   "source": [
    "# exit_notes.head(25)"
   ]
  },
  {
   "cell_type": "code",
   "execution_count": null,
   "id": "a189bad4",
   "metadata": {},
   "outputs": [],
   "source": [
    "# exit_notes.head(25)"
   ]
  },
  {
   "cell_type": "code",
   "execution_count": null,
   "id": "2eb35b9c",
   "metadata": {},
   "outputs": [],
   "source": [
    "# exit_notes['exit_dates_clean'] = exit_notes['exit_dates_clean'].astype(str)\n",
    "# exit_notes['reopen_dates_clean'] = exit_notes['reopen_dates_clean'].astype(str)\n",
    "\n",
    "# exit_notes['exit_dates_clean'] = str(exit_notes['exit_dates_clean']).format\n",
    "# exit_notes['reopen_dates_clean'] = str(exit_notes['reopen_dates_clean']).format"
   ]
  },
  {
   "cell_type": "code",
   "execution_count": null,
   "id": "570de417",
   "metadata": {
    "scrolled": true
   },
   "outputs": [],
   "source": [
    "# exit_notes['exit_dates_clean'] = pd.to_datetime(exit_notes['exit_dates_clean'])\n",
    "# ParserError: Unknown string format: [] "
   ]
  },
  {
   "cell_type": "code",
   "execution_count": null,
   "id": "834c2561",
   "metadata": {
    "scrolled": true
   },
   "outputs": [],
   "source": [
    "# pd.to_datetime(exit_notes['exit_dates_clean'], errors = 'raise', format = '%Y-%m-%d HH:mm:ss')\n",
    "# exit_notes = pd.to_datetime(exit_notes['exit_dates_clean'], errors = 'coerce', format = '%Y-%m-%d HH:mm:ss')\n",
    "# exit_notes = pd.to_datetime(exit_notes['reopen_dates_clean'], errors = 'coerce', format = '%Y-%m-%d HH:mm:ss')\n",
    "# exit_notes['exit_dates_clean'].apply(pd.to_datetime, format = '%Y-%m-%d HH:mm:ss')"
   ]
  },
  {
   "cell_type": "code",
   "execution_count": null,
   "id": "78dbedbb",
   "metadata": {
    "scrolled": true
   },
   "outputs": [],
   "source": [
    "# exit_notes.head(25)"
   ]
  },
  {
   "cell_type": "code",
   "execution_count": null,
   "id": "98a92f7b",
   "metadata": {},
   "outputs": [],
   "source": [
    "# exit_notes['exit_dates_clean'].dtype"
   ]
  },
  {
   "cell_type": "code",
   "execution_count": null,
   "id": "84f9732f",
   "metadata": {},
   "outputs": [],
   "source": [
    "# exit_notes['reopen_dates_clean'].dtype"
   ]
  },
  {
   "cell_type": "code",
   "execution_count": null,
   "id": "91590ba5",
   "metadata": {},
   "outputs": [],
   "source": [
    "# exit_notes = exit_notes.astype({\"exit_dates_clean\": str})"
   ]
  },
  {
   "cell_type": "code",
   "execution_count": null,
   "id": "6c382b53",
   "metadata": {},
   "outputs": [],
   "source": [
    "# exit_notes['exit_dates_clean'].dtype"
   ]
  },
  {
   "cell_type": "code",
   "execution_count": null,
   "id": "8571434c",
   "metadata": {
    "scrolled": true
   },
   "outputs": [],
   "source": [
    "# exit_notes.head(25)"
   ]
  },
  {
   "cell_type": "code",
   "execution_count": null,
   "id": "357d24af",
   "metadata": {},
   "outputs": [],
   "source": [
    "# exit_notes['exit_dates_clean'] = pd.to_datetime(exit_notes['exit_dates_clean'], errors = 'coerce', format = '%Y-%m-%d HH:mm:ss')"
   ]
  },
  {
   "cell_type": "code",
   "execution_count": null,
   "id": "6760c817",
   "metadata": {
    "scrolled": true
   },
   "outputs": [],
   "source": [
    "# exit_notes.head(25)"
   ]
  },
  {
   "cell_type": "code",
   "execution_count": null,
   "id": "d834dfef",
   "metadata": {},
   "outputs": [],
   "source": [
    "# exit_notes['exit_dates_clean'].dtype"
   ]
  },
  {
   "cell_type": "code",
   "execution_count": null,
   "id": "e83eea23",
   "metadata": {},
   "outputs": [],
   "source": [
    "# print(exit_notes['exit_dates_clean'])"
   ]
  },
  {
   "cell_type": "code",
   "execution_count": null,
   "id": "47ef51e4",
   "metadata": {},
   "outputs": [],
   "source": []
  }
 ],
 "metadata": {
  "kernelspec": {
   "display_name": "Python 3",
   "language": "python",
   "name": "python3"
  },
  "language_info": {
   "codemirror_mode": {
    "name": "ipython",
    "version": 3
   },
   "file_extension": ".py",
   "mimetype": "text/x-python",
   "name": "python",
   "nbconvert_exporter": "python",
   "pygments_lexer": "ipython3",
   "version": "3.8.3"
  }
 },
 "nbformat": 4,
 "nbformat_minor": 5
}
