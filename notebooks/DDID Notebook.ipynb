{
 "cells": [
  {
   "cell_type": "code",
   "execution_count": null,
   "metadata": {},
   "outputs": [],
   "source": [
    "import pandas as pd\n",
    "import numpy as np\n",
    "from datetime import timedelta\n",
    "import matplotlib.pyplot as plt\n",
    "import seaborn as sns"
   ]
  },
  {
   "cell_type": "code",
   "execution_count": null,
   "metadata": {},
   "outputs": [],
   "source": [
    "exit_notes_df = pd.read_excel(r'/Users/zenondrobocky/Desktop/NSS/NSS_TWO/Python/Projects/partner_projects/ddid-tiramasu_cheesecake/data/TEIS Exit Data for NSS COPY.xlsx', sheet_name='Exit Notes')\n",
    "eco_exit_df = pd.read_excel(r'/Users/zenondrobocky/Desktop/NSS/NSS_TWO/Python/Projects/partner_projects/ddid-tiramasu_cheesecake/data/TEIS Exit Data for NSS COPY.xlsx', sheet_name='ECO with Exit20-21')\n",
    "eco_exit_df = eco_exit_df.head(-7)"
   ]
  },
  {
   "cell_type": "code",
   "execution_count": null,
   "metadata": {},
   "outputs": [],
   "source": [
    "teis_data_df = exit_notes_df[exit_notes_df['Exit Note'].str.contains('reopened', case=False, na=False)].reset_index(drop=True)\n",
    "reopened_df = teis_data_df.drop(columns=['POE', 'Notification Date', 'Initial Eligibility Date', 'Latest IFSP Date'])"
   ]
  },
  {
   "cell_type": "code",
   "execution_count": null,
   "metadata": {},
   "outputs": [],
   "source": [
    "dates_df = reopened_df['Exit Note'].str.findall('(\\\\d{2}/\\\\d{2}/\\\\d{4})')\n",
    "dates_df = dates_df.to_frame()\n",
    "\n",
    "dates_df['total_dates'] = dates_df['Exit Note'].apply(lambda x: len(str(x).split(' ')))\n",
    "\n",
    "dates_df.total_dates.describe()\n",
    "\n",
    "reopened_df['reopened_dates'] = reopened_df['Exit Note'].str.findall('Reopened: \\\\d{2}/\\\\d{2}/\\\\d{4}')\n",
    "reopened_df['exit_dates'] = reopened_df['Exit Note'].str.findall('Exit Date: \\\\d{2}/\\\\d{2}/\\\\d{4}')\n",
    "\n",
    "reopen_date_df = reopened_df.reopened_dates.to_frame().astype(str)\n",
    "exit_date_df = reopened_df.exit_dates.to_frame().astype(str)\n",
    "\n",
    "reopen_date_df = reopen_date_df.reopened_dates.str.split(',', expand=True)\n",
    "reopen_date_df.columns = ['reopen1', 'reopen2', 'reopen3', 'reopen4', 'reopen5', 'reopen6']\n",
    "exit_date_df = exit_date_df.exit_dates.str.split(',', expand=True)\n",
    "exit_date_df.columns = ['exit1', 'exit2', 'exit3', 'exit4', 'exit5', 'exit6']\n",
    "\n",
    "cols_r = ['reopen1', 'reopen2', 'reopen3', 'reopen4', 'reopen5', 'reopen6']\n",
    "cols_e = ['exit1', 'exit2', 'exit3', 'exit4', 'exit5', 'exit6']\n",
    "\n",
    "reopen_date_df[cols_r] = reopen_date_df[cols_r].replace({'\\[':'', '\\]':'', '\\'':'', 'Reopened:':''}, regex=True)\n",
    "exit_date_df[cols_e] = exit_date_df[cols_e].replace({'\\[':'', '\\]':'', '\\'':'', 'Exit Date:':''}, regex=True)"
   ]
  },
  {
   "cell_type": "code",
   "execution_count": null,
   "metadata": {},
   "outputs": [],
   "source": [
    "reopen_exit_date_df = reopen_date_df.join(exit_date_df)\n",
    "\n",
    "cols_r_e =  ['reopen1', 'reopen2', 'reopen3', 'reopen4', 'reopen5', 'reopen6',\n",
    "             'exit1', 'exit2', 'exit3', 'exit4', 'exit5', 'exit6']\n",
    "             \n",
    "reopen_exit_date_df = reopen_exit_date_df.astype('datetime64')\n",
    "reopen_exit_date_df = reopen_exit_date_df.reindex(columns=['exit1', 'reopen1', 'exit2', 'reopen2', 'exit3', 'reopen3', 'exit4', 'reopen4', 'exit5', 'reopen5', 'exit6', 'reopen6'])\n",
    "\n",
    "ifsp_date = reopened_df[['Child ID', 'DOB', 'Initial IFSP Date', 'Exit Date', 'Days from I-IFSP to Exit']]\n",
    "ifsp_date[['Initial IFSP Date', 'Exit Date']].astype('datetime64')\n",
    "ifsp_date['age3_date'] = ifsp_date['DOB'] + pd.offsets.DateOffset(years=3)\n",
    "reopen_exit_date_df = ifsp_date.join(reopen_exit_date_df)\n",
    "\n",
    "###IF REOPEN DATE IS AFTER EXIT DATE, CHANGE EXIT DATE TO CURRENT DAY\n",
    "reopen_exit_date_df.loc[reopen_exit_date_df.reopen1 > reopen_exit_date_df['Exit Date'], ['Exit Date']] = pd.to_datetime('today').normalize()\n",
    "\n",
    "###IF EXIT DATE IS AFTER THEIR 3RD BIRTHDAY, CHANGE EXIT DATE TO AGE3_DATE\n",
    "reopen_exit_date_df['Exit Date'] = np.where(reopen_exit_date_df['Exit Date'] > reopen_exit_date_df.age3_date, reopen_exit_date_df.age3_date, reopen_exit_date_df['Exit Date'])\n",
    "\n",
    "###RECALCULATE DAYS FROM I-IFSP TO EXIT\n",
    "reopen_exit_date_df['Days from I-IFSP to Exit'] = reopen_exit_date_df['Exit Date'] - reopen_exit_date_df['Initial IFSP Date']\n",
    "\n",
    "###SET REOPEN TO NULL IF THE DATE LISTED IS EQUAL TO OR AFTER AGE3_DATE\n",
    "reopen_exit_date_df.loc[reopen_exit_date_df.reopen1 > reopen_exit_date_df.age3_date, ['reopen1']] = 'NaT'\n",
    "reopen_exit_date_df.loc[reopen_exit_date_df.reopen1 == reopen_exit_date_df.age3_date, ['reopen1']] = 'NaT'\n",
    "\n",
    "###SET REOPEN TO NULL IF THE DATE LISTED IS EQUAL TO EXIT DATE\n",
    "reopen_exit_date_df.loc[reopen_exit_date_df.reopen1 == reopen_exit_date_df['Exit Date'], ['reopen1']] = 'NaT'\n",
    "\n",
    "###SET 'EXIT'/'REOPEN TO NULL IF THE DATE LISTED IS BEFORE THE INITIAL IFSP DATE\n",
    "reopen_exit_date_df.loc[reopen_exit_date_df.exit1 < reopen_exit_date_df['Initial IFSP Date'], ['exit1']] = 'NaT'\n",
    "reopen_exit_date_df.loc[reopen_exit_date_df.exit2 < reopen_exit_date_df['Initial IFSP Date'], ['exit2']] = 'NaT'\n",
    "reopen_exit_date_df.loc[reopen_exit_date_df.exit3 < reopen_exit_date_df['Initial IFSP Date'], ['exit3']] = 'NaT'\n",
    "reopen_exit_date_df.loc[reopen_exit_date_df.exit4 < reopen_exit_date_df['Initial IFSP Date'], ['exit4']] = 'NaT'\n",
    "reopen_exit_date_df.loc[reopen_exit_date_df.exit5 < reopen_exit_date_df['Initial IFSP Date'], ['exit5']] = 'NaT'\n",
    "reopen_exit_date_df.loc[reopen_exit_date_df.exit6 < reopen_exit_date_df['Initial IFSP Date'], ['exit6']] = 'NaT'\n",
    "reopen_exit_date_df.loc[reopen_exit_date_df.reopen1 < reopen_exit_date_df['Initial IFSP Date'], ['reopen1']] = 'NaT'\n",
    "reopen_exit_date_df.loc[reopen_exit_date_df.reopen2 < reopen_exit_date_df['Initial IFSP Date'], ['reopen2']] = 'NaT'\n",
    "reopen_exit_date_df.loc[reopen_exit_date_df.reopen3 < reopen_exit_date_df['Initial IFSP Date'], ['reopen3']] = 'NaT'\n",
    "reopen_exit_date_df.loc[reopen_exit_date_df.reopen4 < reopen_exit_date_df['Initial IFSP Date'], ['reopen4']] = 'NaT'\n",
    "reopen_exit_date_df.loc[reopen_exit_date_df.reopen5 < reopen_exit_date_df['Initial IFSP Date'], ['reopen5']] = 'NaT'\n",
    "reopen_exit_date_df.loc[reopen_exit_date_df.reopen6 < reopen_exit_date_df['Initial IFSP Date'], ['reopen6']] = 'NaT'\n",
    "#\n",
    "reopen_exit_date_df = reopen_exit_date_df[reopen_exit_date_df.exit1.notnull()].reset_index(drop=True)\n",
    "\n",
    "reopen_exit_date_df.exit1 = np.where(reopen_exit_date_df.exit1 == reopen_exit_date_df['Exit Date'], reopen_exit_date_df.exit2, reopen_exit_date_df.exit1)\n",
    "\n",
    "reopen_exit_date_df['r1-e1'] = reopen_exit_date_df.reopen1 - reopen_exit_date_df.exit1\n",
    "reopen_exit_date_df['r2-e2'] = reopen_exit_date_df.reopen2 - reopen_exit_date_df.exit2\n",
    "reopen_exit_date_df['r3-e3'] = reopen_exit_date_df.reopen3 - reopen_exit_date_df.exit3\n",
    "reopen_exit_date_df['r4-e4'] = reopen_exit_date_df.reopen4 - reopen_exit_date_df.exit4\n",
    "reopen_exit_date_df['r5-e5'] = reopen_exit_date_df.reopen5 - reopen_exit_date_df.exit5\n",
    "reopen_exit_date_df['r6-e6'] = reopen_exit_date_df.reopen6 - reopen_exit_date_df.exit6\n",
    "reopen_exit_date_df.dtypes\n",
    "\n",
    "reopen_exit_date_df['r1-e1'] = reopen_exit_date_df['r1-e1'].fillna(pd.Timedelta(seconds=0))\n",
    "reopen_exit_date_df['r2-e2'] = reopen_exit_date_df['r2-e2'].fillna(pd.Timedelta(seconds=0))\n",
    "reopen_exit_date_df['r3-e3'] = reopen_exit_date_df['r3-e3'].fillna(pd.Timedelta(seconds=0))\n",
    "reopen_exit_date_df['r4-e4'] = reopen_exit_date_df['r4-e4'].fillna(pd.Timedelta(seconds=0))\n",
    "reopen_exit_date_df['r5-e5'] = reopen_exit_date_df['r5-e5'].fillna(pd.Timedelta(seconds=0))\n",
    "reopen_exit_date_df['r6-e6'] = reopen_exit_date_df['r6-e6'].fillna(pd.Timedelta(seconds=0))\n",
    "\n",
    "reopen_exit_date_df['day_diff'] = reopen_exit_date_df['r1-e1'] + reopen_exit_date_df['r2-e2'] + reopen_exit_date_df['r3-e3'] + reopen_exit_date_df['r4-e4'] + reopen_exit_date_df['r5-e5'] + reopen_exit_date_df['r6-e6']\n",
    "reopen_exit_date_df.day_diff = reopen_exit_date_df.day_diff.astype('timedelta64[D]').astype(int)\n",
    "reopen_exit_date_df['actual_service_time'] = reopen_exit_date_df['Days from I-IFSP to Exit'].astype('timedelta64[D]').astype(int) - reopen_exit_date_df.day_diff"
   ]
  },
  {
   "cell_type": "code",
   "execution_count": null,
   "metadata": {},
   "outputs": [],
   "source": [
    "service_time_df = reopen_exit_date_df[['Child ID', 'actual_service_time']]\n",
    "\n",
    "initial_final_merge = exit_notes_df.merge(service_time_df, how='outer')\n",
    "initial_final_merge.actual_service_time = initial_final_merge.actual_service_time.fillna(initial_final_merge['Days from I-IFSP to Exit']).astype(int)\n",
    "\n",
    "initial_final_merge['change_bool'] = np.where(initial_final_merge.actual_service_time == initial_final_merge['Days from I-IFSP to Exit'], 0, 1).astype(bool)\n",
    "initial_final_merge['service_change'] = (initial_final_merge['Days from I-IFSP to Exit'] - initial_final_merge.actual_service_time).abs()\n",
    "\n",
    "service_time_stats_df = initial_final_merge['service_change']\n",
    "service_time_stats_df = service_time_stats_df.to_frame()\n",
    "service_time_stats_df = service_time_stats_df[service_time_stats_df.service_change != 0].reset_index(drop=True)\n",
    "service_time_stats_df.describe()\n",
    "\n",
    "calc_merge = eco_exit_df.join(initial_final_merge.set_index('Child ID'), on='CHILD_ID', lsuffix='_left', rsuffix='_right')\n",
    "calc_merge.actual_service_time_right = calc_merge.actual_service_time_right.fillna(calc_merge['Days btw Initial and Exit']).astype(int)\n",
    "calc_merge['Days from I-IFSP to Exit'] = calc_merge['Days from I-IFSP to Exit'].fillna(calc_merge['Days btw Initial and Exit']).astype(int)\n",
    "calc_merge.change_bool = np.where(calc_merge.actual_service_time_right == calc_merge['Days btw Initial and Exit'], 0, 1).astype(bool)\n",
    "calc_merge.service_change = (calc_merge['Days from I-IFSP to Exit'] - calc_merge.actual_service_time_right).abs()\n",
    "\n",
    "initial_final_merge.service_change.describe()"
   ]
  },
  {
   "cell_type": "code",
   "execution_count": null,
   "metadata": {},
   "outputs": [],
   "source": [
    "initial_final_merge.to_csv('../data/initial_final_merge', index = False)\n",
    "calc_merge.to_csv('../data/calc_merge', index = False)"
   ]
  },
  {
   "cell_type": "code",
   "execution_count": null,
   "metadata": {},
   "outputs": [],
   "source": [
    "calc_merge['child_age_at_exit'] = calc_merge['Exit Date_left'] - calc_merge['DOB_left']\n",
    "calc_merge.child_age_at_exit = calc_merge.child_age_at_exit.astype(str).str.replace(' days', '').astype(int)\n",
    "calc_merge.actual_service_time_right = np.where(calc_merge.actual_service_time_right > calc_merge.child_age_at_exit, calc_merge.child_age_at_exit, calc_merge.actual_service_time_right)\n",
    "\n",
    "plt.figure(figsize = (20,16))\n",
    "sns.set_style('dark')\n",
    "sns.set(font_scale=1.5)\n",
    "\n",
    "#plt.ylim(0, 182)\n",
    "\n",
    "calc_merge_scatter = sns.scatterplot(data = calc_merge,\n",
    "                                     x = 'child_age_at_exit',\n",
    "                                     y = 'actual_service_time_right',\n",
    "                                     hue = 'Exit Reason_right')\n",
    "\n",
    "calc_merge_scatter.set_xlabel('Child Age at Exit (Days)')\n",
    "calc_merge_scatter.set_ylabel('Actual Service Time (Days)')\n",
    "calc_merge_scatter.set_title('Child Age at Exit v Actual Service Time')"
   ]
  }
 ],
 "metadata": {
  "interpreter": {
   "hash": "d1be5264e27b276bd2f42c2c2a657f08acda7e20883051227890d13f87ab4def"
  },
  "kernelspec": {
   "display_name": "Python 3",
   "language": "python",
   "name": "python3"
  },
  "language_info": {
   "codemirror_mode": {
    "name": "ipython",
    "version": 3
   },
   "file_extension": ".py",
   "mimetype": "text/x-python",
   "name": "python",
   "nbconvert_exporter": "python",
   "pygments_lexer": "ipython3",
   "version": "3.8.3"
  }
 },
 "nbformat": 4,
 "nbformat_minor": 2
}
