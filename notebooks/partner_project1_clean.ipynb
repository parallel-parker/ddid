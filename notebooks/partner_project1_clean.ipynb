{
 "cells": [
  {
   "cell_type": "code",
   "execution_count": null,
   "id": "195c009f",
   "metadata": {},
   "outputs": [],
   "source": [
    "import re\n",
    "import numpy as np\n",
    "import pandas as pd\n",
    "import seaborn as sns\n",
    "from datetime import datetime\n",
    "import matplotlib.pyplot as plt\n",
    "\n",
    "\n",
    "%matplotlib inline"
   ]
  },
  {
   "cell_type": "code",
   "execution_count": null,
   "id": "c3550261",
   "metadata": {},
   "outputs": [],
   "source": [
    "pd.set_option('display.max_rows', 100)\n",
    "pd.options.display.max_colwidth = 1000"
   ]
  },
  {
   "cell_type": "code",
   "execution_count": null,
   "id": "483bc8e7",
   "metadata": {},
   "outputs": [],
   "source": [
    "exit_notes = pd.read_excel('../data/TEIS Exit Data for NSS.xlsx', 3)"
   ]
  },
  {
   "cell_type": "code",
   "execution_count": null,
   "id": "016e07d7",
   "metadata": {
    "scrolled": true
   },
   "outputs": [],
   "source": [
    "exit_notes.head(15)"
   ]
  },
  {
   "cell_type": "code",
   "execution_count": null,
   "id": "e167b1d4",
   "metadata": {},
   "outputs": [],
   "source": [
    "exit_notes['extra_dates'] = exit_notes['Exit Note'].str.findall(r'\\d+[/-]\\d+[/-]\\d+')"
   ]
  },
  {
   "cell_type": "code",
   "execution_count": null,
   "id": "fc0595f9",
   "metadata": {},
   "outputs": [],
   "source": [
    "exit_notes['exit_dates'] = exit_notes['Exit Note'].str.findall(r'Exit Date: \\d+[/-]\\d+[/-]\\d+')"
   ]
  },
  {
   "cell_type": "code",
   "execution_count": null,
   "id": "848538fc",
   "metadata": {},
   "outputs": [],
   "source": [
    "exit_notes['reopen_dates'] = exit_notes['Exit Note'].str.findall(r'Reopened: \\d+[/-]\\d+[/-]\\d+')"
   ]
  },
  {
   "cell_type": "code",
   "execution_count": null,
   "id": "5656f193",
   "metadata": {},
   "outputs": [],
   "source": [
    "for index, row in exit_notes.head(2251).iterrows():\n",
    "     if(len(row.exit_dates))!=0:\n",
    "        for i in range(0,len(row.exit_dates)):\n",
    "            if i ==0:\n",
    "                exit_notes.loc[index,'exit 1'] = row.exit_dates[i][len(row.exit_dates[i])-10:]\n",
    "            elif i ==1:\n",
    "                exit_notes.loc[index,'exit 2'] = row.exit_dates[i][len(row.exit_dates[i])-10:]\n",
    "            elif i ==2:\n",
    "                exit_notes.loc[index,'exit 3'] = row.exit_dates[i][len(row.exit_dates[i])-10:]\n",
    "            elif i ==3:\n",
    "                exit_notes.loc[index,'exit 4'] = row.exit_dates[i][len(row.exit_dates[i])-10:]\n",
    "            elif i ==4:\n",
    "                exit_notes.loc[index,'exit 5'] = row.exit_dates[i][len(row.exit_dates[i])-10:]"
   ]
  },
  {
   "cell_type": "code",
   "execution_count": null,
   "id": "63be0af3",
   "metadata": {},
   "outputs": [],
   "source": [
    "exit_notes.head(30)"
   ]
  },
  {
   "cell_type": "code",
   "execution_count": null,
   "id": "dda68b31",
   "metadata": {},
   "outputs": [],
   "source": [
    "for index, row in exit_notes.head(2251).iterrows():\n",
    "     if(len(row.reopen_dates))!= 0:\n",
    "        for i in range(0,len(row.reopen_dates)):\n",
    "            if i == 0:\n",
    "                exit_notes.loc[index,'reopened 1'] = row.reopen_dates[i][len(row.reopen_dates[i]) - 10:]\n",
    "            elif i == 1:\n",
    "                exit_notes.loc[index,'reopened 2'] = row.reopen_dates[i][len(row.reopen_dates[i]) - 10:]\n",
    "            elif i == 2:\n",
    "                exit_notes.loc[index,'reopened 3'] = row.reopen_dates[i][len(row.reopen_dates[i]) - 10:]\n",
    "            elif i == 3:\n",
    "                exit_notes.loc[index,'reopened 4'] = row.reopen_dates[i][len(row.reopen_dates[i]) - 10:]\n",
    "            elif i == 4:\n",
    "                exit_notes.loc[index,'reopened 5'] = row.reopen_dates[i][len(row.reopen_dates[i]) - 10:]"
   ]
  },
  {
   "cell_type": "code",
   "execution_count": null,
   "id": "24449c2a",
   "metadata": {
    "scrolled": true
   },
   "outputs": [],
   "source": [
    "exit_notes.head(30)"
   ]
  },
  {
   "cell_type": "code",
   "execution_count": null,
   "id": "a71036dd",
   "metadata": {},
   "outputs": [],
   "source": [
    "exit_notes['exit 3'] = pd.to_datetime(exit_notes['exit 3'])"
   ]
  },
  {
   "cell_type": "code",
   "execution_count": null,
   "id": "b1680ebb",
   "metadata": {},
   "outputs": [],
   "source": [
    "exit_notes['exit 4'] = pd.to_datetime(exit_notes['exit 4'])"
   ]
  },
  {
   "cell_type": "code",
   "execution_count": null,
   "id": "8fbb3f5b",
   "metadata": {},
   "outputs": [],
   "source": [
    "exit_notes['exit 5'] = pd.to_datetime(exit_notes['exit 5'])"
   ]
  },
  {
   "cell_type": "code",
   "execution_count": null,
   "id": "6ad28d52",
   "metadata": {},
   "outputs": [],
   "source": [
    "exit_notes['reopened 1'] = pd.to_datetime(exit_notes['reopened 1'])"
   ]
  },
  {
   "cell_type": "code",
   "execution_count": null,
   "id": "917cbf9c",
   "metadata": {},
   "outputs": [],
   "source": [
    "exit_notes['reopened 2'] = pd.to_datetime(exit_notes['reopened 2'])"
   ]
  },
  {
   "cell_type": "code",
   "execution_count": null,
   "id": "be1e88dc",
   "metadata": {},
   "outputs": [],
   "source": [
    "exit_notes['reopened 3'] = pd.to_datetime(exit_notes['reopened 3'])"
   ]
  },
  {
   "cell_type": "code",
   "execution_count": null,
   "id": "4cc5ff1a",
   "metadata": {},
   "outputs": [],
   "source": [
    "exit_notes['reopened 4'] = pd.to_datetime(exit_notes['reopened 4'])"
   ]
  },
  {
   "cell_type": "code",
   "execution_count": null,
   "id": "06c3d415",
   "metadata": {},
   "outputs": [],
   "source": [
    "exit_notes['reopened 5'] = pd.to_datetime(exit_notes['reopened 5'])"
   ]
  },
  {
   "cell_type": "code",
   "execution_count": null,
   "id": "179beaf9",
   "metadata": {
    "scrolled": true
   },
   "outputs": [],
   "source": [
    "exit_notes.head(25)"
   ]
  },
  {
   "cell_type": "code",
   "execution_count": null,
   "id": "c122cd99",
   "metadata": {},
   "outputs": [],
   "source": [
    "exit_notes['exit 1'] = exit_notes['exit 1'].str.extract(r'(\\d+[/-]\\d+[/-]\\d+)')"
   ]
  },
  {
   "cell_type": "code",
   "execution_count": null,
   "id": "847b0349",
   "metadata": {},
   "outputs": [],
   "source": [
    "exit_notes['exit 2'] = exit_notes['exit 2'].str.extract(r'(\\d+[/-]\\d+[/-]\\d+)')"
   ]
  },
  {
   "cell_type": "code",
   "execution_count": null,
   "id": "e24a1ad1",
   "metadata": {},
   "outputs": [],
   "source": [
    "exit_notes['exit 1'] = pd.to_datetime(exit_notes['exit 1'])"
   ]
  },
  {
   "cell_type": "code",
   "execution_count": null,
   "id": "0e55476d",
   "metadata": {},
   "outputs": [],
   "source": [
    "exit_notes['exit 2'] = pd.to_datetime(exit_notes['exit 2'])"
   ]
  },
  {
   "cell_type": "code",
   "execution_count": null,
   "id": "a39e7af7",
   "metadata": {},
   "outputs": [],
   "source": [
    "exit_notes = exit_notes.drop(columns = ['POE','DOB','Initial Eligibility Date','Notification Date','Latest IFSP Date', 'Exit Reason', 'extra_dates', 'exit_dates', 'reopen_dates'])"
   ]
  },
  {
   "cell_type": "code",
   "execution_count": null,
   "id": "7901fb9b",
   "metadata": {
    "scrolled": true
   },
   "outputs": [],
   "source": [
    "exit_notes.head(25)"
   ]
  },
  {
   "cell_type": "code",
   "execution_count": null,
   "id": "0ce4166d",
   "metadata": {},
   "outputs": [],
   "source": [
    "exit_notes['exit 1'].mask(exit_notes['exit 1'] <= exit_notes['Initial IFSP Date'], np.NaN,inplace = True)\n",
    "exit_notes['exit 2'].mask(exit_notes['exit 2'] <= exit_notes['Initial IFSP Date'], np.NaN,inplace = True)\n",
    "exit_notes['exit 3'].mask(exit_notes['exit 3'] <= exit_notes['Initial IFSP Date'], np.NaN,inplace = True)\n",
    "exit_notes['exit 4'].mask(exit_notes['exit 4'] <= exit_notes['Initial IFSP Date'], np.NaN,inplace = True)\n",
    "exit_notes['exit 5'].mask(exit_notes['exit 5'] <= exit_notes['Initial IFSP Date'], np.NaN,inplace = True)\n",
    "exit_notes['reopened 1'].mask(exit_notes['reopened 1'] <= exit_notes['Initial IFSP Date'], np.NaN,inplace = True)\n",
    "exit_notes['reopened 2'].mask(exit_notes['reopened 2'] <= exit_notes['Initial IFSP Date'], np.NaN,inplace = True)\n",
    "exit_notes['reopened 3'].mask(exit_notes['reopened 3'] <= exit_notes['Initial IFSP Date'], np.NaN,inplace = True)\n",
    "exit_notes['reopened 4'].mask(exit_notes['reopened 4'] <= exit_notes['Initial IFSP Date'], np.NaN,inplace = True)\n",
    "exit_notes['reopened 5'].mask(exit_notes['reopened 5'] <= exit_notes['Initial IFSP Date'], np.NaN,inplace = True)"
   ]
  },
  {
   "cell_type": "code",
   "execution_count": null,
   "id": "3cab55d8",
   "metadata": {},
   "outputs": [],
   "source": [
    "for index, row in exit_notes.iterrows():\n",
    "    totaldays = pd.to_timedelta(0, unit = 'D')\n",
    "    if (pd.notnull(row['exit 1']) and pd.notnull(row['reopened 1'])):\n",
    "        totaldays += (row['reopened 1'] - row['exit 1'])\n",
    "    if (pd.notnull(row['exit 2']) and pd.notnull(row['reopened 2'])):\n",
    "        totaldays += (row['reopened 2'] - row['exit 2'])\n",
    "    if (pd.notnull(row['exit 3']) and pd.notnull(row['reopened 3'])):\n",
    "        totaldays += (row['reopened 3'] - row['exit 3'])\n",
    "    if (pd.notnull(row['exit 4']) and pd.notnull(row['reopened 4'])):\n",
    "        totaldays += (row['reopened 4'] - row['exit 4'])\n",
    "    if (pd.notnull(row['exit 5']) and pd.notnull(row['reopened 5'])):\n",
    "        totaldays += (row['reopened 5'] - row['exit 5'])\n",
    "    exit_notes.loc[index,'totaldays'] = totaldays"
   ]
  },
  {
   "cell_type": "code",
   "execution_count": null,
   "id": "24973eaf",
   "metadata": {},
   "outputs": [],
   "source": [
    "exit_notes['recalculated days'] = exit_notes['Days from I-IFSP to Exit'] - exit_notes.totaldays.dt.days"
   ]
  },
  {
   "cell_type": "code",
   "execution_count": null,
   "id": "96ed38c4",
   "metadata": {
    "scrolled": true
   },
   "outputs": [],
   "source": [
    "exit_notes.head(25)"
   ]
  },
  {
   "cell_type": "code",
   "execution_count": null,
   "id": "f8e9821a",
   "metadata": {},
   "outputs": [],
   "source": [
    "sum(exit_notes['Days from I-IFSP to Exit'])"
   ]
  },
  {
   "cell_type": "code",
   "execution_count": null,
   "id": "55c22dbe",
   "metadata": {},
   "outputs": [],
   "source": [
    "sum(exit_notes['recalculated days'])"
   ]
  },
  {
   "cell_type": "code",
   "execution_count": null,
   "id": "c7a7cc77",
   "metadata": {},
   "outputs": [],
   "source": [
    "sum(exit_notes['Days from I-IFSP to Exit']) - sum(exit_notes['recalculated days'])"
   ]
  },
  {
   "cell_type": "code",
   "execution_count": null,
   "id": "1fa5be9d",
   "metadata": {},
   "outputs": [],
   "source": [
    "exit_notes['x'] = exit_notes['Days from I-IFSP to Exit'] - exit_notes['recalculated days']"
   ]
  },
  {
   "cell_type": "code",
   "execution_count": null,
   "id": "5f881d31",
   "metadata": {},
   "outputs": [],
   "source": [
    "adjusted_dates = exit_notes.loc[exit_notes['Days from I-IFSP to Exit'] != exit_notes['recalculated days']]"
   ]
  },
  {
   "cell_type": "code",
   "execution_count": null,
   "id": "eff55ea1",
   "metadata": {
    "scrolled": true
   },
   "outputs": [],
   "source": [
    "exit_notes.head(25)"
   ]
  },
  {
   "cell_type": "code",
   "execution_count": null,
   "id": "9279c29b",
   "metadata": {},
   "outputs": [],
   "source": [
    "sum(exit_notes.x)"
   ]
  },
  {
   "cell_type": "code",
   "execution_count": null,
   "id": "293dc1c9",
   "metadata": {},
   "outputs": [],
   "source": [
    "exit_notes.x.mean()"
   ]
  },
  {
   "cell_type": "code",
   "execution_count": null,
   "id": "a7b07b09",
   "metadata": {},
   "outputs": [],
   "source": [
    "exit_notes.x.describe()"
   ]
  },
  {
   "cell_type": "code",
   "execution_count": null,
   "id": "7da0726d",
   "metadata": {},
   "outputs": [],
   "source": [
    "exit_notes.totaldays.describe()"
   ]
  },
  {
   "cell_type": "code",
   "execution_count": null,
   "id": "4176d23f",
   "metadata": {
    "scrolled": false
   },
   "outputs": [],
   "source": [
    "exit_notes.min()"
   ]
  },
  {
   "cell_type": "code",
   "execution_count": null,
   "id": "feacaedf",
   "metadata": {
    "scrolled": false
   },
   "outputs": [],
   "source": [
    "exit_notes.max()"
   ]
  },
  {
   "cell_type": "code",
   "execution_count": null,
   "id": "3b1e717b",
   "metadata": {
    "scrolled": false
   },
   "outputs": [],
   "source": [
    "exit_notes[exit_notes.totaldays == exit_notes.totaldays.min()]"
   ]
  },
  {
   "cell_type": "code",
   "execution_count": null,
   "id": "9f2ef9f7",
   "metadata": {
    "scrolled": true
   },
   "outputs": [],
   "source": [
    "exit_notes[exit_notes.totaldays == exit_notes.totaldays.max()]"
   ]
  },
  {
   "cell_type": "code",
   "execution_count": null,
   "id": "28889d32",
   "metadata": {},
   "outputs": [],
   "source": [
    "exit_notes.totaldays.describe()"
   ]
  },
  {
   "cell_type": "code",
   "execution_count": null,
   "id": "5f58845a",
   "metadata": {},
   "outputs": [],
   "source": [
    "adjusted_dates.totaldays.describe()"
   ]
  },
  {
   "cell_type": "code",
   "execution_count": null,
   "id": "f3dcc0d3",
   "metadata": {},
   "outputs": [],
   "source": [
    "exit_notes.describe()"
   ]
  },
  {
   "cell_type": "code",
   "execution_count": null,
   "id": "2e6da837",
   "metadata": {},
   "outputs": [],
   "source": [
    "# print(exit_notes.totaldays.describe())\n",
    "# print(adjusted_dates.totaldays.describe())"
   ]
  },
  {
   "cell_type": "code",
   "execution_count": null,
   "id": "05012669",
   "metadata": {},
   "outputs": [],
   "source": []
  }
 ],
 "metadata": {
  "kernelspec": {
   "display_name": "Python 3",
   "language": "python",
   "name": "python3"
  },
  "language_info": {
   "codemirror_mode": {
    "name": "ipython",
    "version": 3
   },
   "file_extension": ".py",
   "mimetype": "text/x-python",
   "name": "python",
   "nbconvert_exporter": "python",
   "pygments_lexer": "ipython3",
   "version": "3.8.3"
  }
 },
 "nbformat": 4,
 "nbformat_minor": 5
}
